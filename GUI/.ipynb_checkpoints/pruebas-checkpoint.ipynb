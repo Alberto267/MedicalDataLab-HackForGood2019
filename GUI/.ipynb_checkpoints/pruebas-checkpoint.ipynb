{
 "cells": [
  {
   "cell_type": "code",
   "execution_count": 1,
   "metadata": {},
   "outputs": [],
   "source": [
    "import matplotlib.pyplot as plt\n",
    "from PatientRequest import PatientRequest\n",
    "\n",
    "import nibabel as nib"
   ]
  },
  {
   "cell_type": "code",
   "execution_count": 7,
   "metadata": {},
   "outputs": [],
   "source": [
    "image102 = nib.load('/home/ubuntu/ACDC_yeah/acdc_data/test/patient102/patient102_ED.nii.gz')\n",
    "image103 = nib.load('/home/ubuntu/ACDC_yeah/acdc_data/test/patient103/patient103_ED.nii.gz')"
   ]
  },
  {
   "cell_type": "code",
   "execution_count": 8,
   "metadata": {},
   "outputs": [],
   "source": [
    "image102_array = image102.get_data()\n",
    "image103_array = image103.get_data()"
   ]
  },
  {
   "cell_type": "code",
   "execution_count": 9,
   "metadata": {},
   "outputs": [
    {
     "data": {
      "text/plain": [
       "<matplotlib.image.AxesImage at 0x7f49305007b8>"
      ]
     },
     "execution_count": 9,
     "metadata": {},
     "output_type": "execute_result"
    },
    {
     "data": {
      "image/png": "[encoded data removed]",
      "text/plain": [
       "<Figure size 720x720 with 2 Axes>"
      ]
     },
     "metadata": {},
     "output_type": "display_data"
    }
   ],
   "source": [
    "fig, axis = plt.subplots(1, 2, figsize = (10, 10))\n",
    "\n",
    "axis[0].imshow(image102_array[:,:,1], cmap = \"bone\")\n",
    "axis[1].imshow(image103_array[:,:,1], cmap = \"bone\")"
   ]
  },
  {
   "cell_type": "code",
   "execution_count": 2,
   "metadata": {},
   "outputs": [],
   "source": [
    "patient = PatientRequest('/home/ubuntu/ACDC_yeah/acdc_data/test/', 'patient107')"
   ]
  },
  {
   "cell_type": "code",
   "execution_count": 3,
   "metadata": {},
   "outputs": [
    {
     "data": {
      "text/plain": [
       "{'height': '155.0',\n",
       " 'weight': '47.0',\n",
       " 'sys_volume_RV_mL': 55.59026095010352,\n",
       " 'sys_volume_LV_mL': 47.533972291900895,\n",
       " 'sys_volume_Myo_mL': 67.92703708563423,\n",
       " 'dia_volume_RV_mL': 99.92788669779873,\n",
       " 'dia_volume_LV_mL': 109.18046879944676,\n",
       " 'dia_volume_Myo_mL': 67.59057955466521,\n",
       " 'ey_frac_LV': 0.5646293442903612,\n",
       " 'ey_frac_RV': 0.44369622147399923,\n",
       " 'DCM': 0.018333333333333333,\n",
       " 'HCM': 0.18526739926739924,\n",
       " 'MINF': 0.07222313797313798,\n",
       " 'NOR': 0.3857673992673993,\n",
       " 'RV': 0.33840873015873013}"
      ]
     },
     "execution_count": 3,
     "metadata": {},
     "output_type": "execute_result"
    }
   ],
   "source": [
    "patient.patologyDict"
   ]
  },
  {
   "cell_type": "code",
   "execution_count": null,
   "metadata": {},
   "outputs": [],
   "source": []
  }
 ],
 "metadata": {
  "kernelspec": {
   "display_name": "Environment (conda_tensorflow_p36)",
   "language": "python",
   "name": "conda_tensorflow_p36"
  },
  "language_info": {
   "codemirror_mode": {
    "name": "ipython",
    "version": 3
   },
   "file_extension": ".py",
   "mimetype": "text/x-python",
   "name": "python",
   "nbconvert_exporter": "python",
   "pygments_lexer": "ipython3",
   "version": "3.6.8"
  }
 },
 "nbformat": 4,
 "nbformat_minor": 2
}
