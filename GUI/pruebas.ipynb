{
 "cells": [
  {
   "cell_type": "code",
   "execution_count": 43,
   "metadata": {},
   "outputs": [],
   "source": [
    "import matplotlib.pyplot as plt\n",
    "from PatientRequest import PatientRequest\n",
    "from PIL import Image, ImageTk\n",
    "\n",
    "import nibabel as nib"
   ]
  },
  {
   "cell_type": "code",
   "execution_count": 44,
   "metadata": {},
   "outputs": [],
   "source": [
    "image102 = nib.load('/home/ubuntu/ACDC_yeah/acdc_data/test/patient102/patient102_ED.nii.gz')\n",
    "image103 = nib.load('/home/ubuntu/ACDC_yeah/acdc_data/test/patient103/patient103_ED.nii.gz')"
   ]
  },
  {
   "cell_type": "code",
   "execution_count": 45,
   "metadata": {},
   "outputs": [],
   "source": [
    "image102_array = image102.get_data()\n",
    "image103_array = image103.get_data()"
   ]
  },
  {
   "cell_type": "code",
   "execution_count": 46,
   "metadata": {},
   "outputs": [
    {
     "data": {
      "text/plain": [
       "0.0"
      ]
     },
     "execution_count": 46,
     "metadata": {},
     "output_type": "execute_result"
    }
   ],
   "source": [
    "image102_array[200][2][1]"
   ]
  },
  {
   "cell_type": "code",
   "execution_count": 47,
   "metadata": {},
   "outputs": [],
   "source": [
    "image = Image.fromarray(image102_array[:,:,1])"
   ]
  },
  {
   "cell_type": "code",
   "execution_count": 68,
   "metadata": {},
   "outputs": [
    {
     "data": {
      "text/plain": [
       "<matplotlib.image.AxesImage at 0x7f8d6ca55e80>"
      ]
     },
     "execution_count": 68,
     "metadata": {},
     "output_type": "execute_result"
    },
    {
     "data": {
      "image/png": "[encoded data removed]",
      "text/plain": [
       "<Figure size 720x720 with 2 Axes>"
      ]
     },
     "metadata": {},
     "output_type": "display_data"
    }
   ],
   "source": [
    "fig, axis = plt.subplots(1, 2, figsize = (10, 10))\n",
    "\n",
    "axis[0].imshow(image102_array[:,:,1], cmap = \"bone\")\n",
    "axis[1].imshow(image103_array[:,:,1], cmap = \"bone\")"
   ]
  },
  {
   "cell_type": "code",
   "execution_count": 49,
   "metadata": {},
   "outputs": [],
   "source": [
    "patient = PatientRequest('/home/ubuntu/ACDC_yeah/acdc_data/test/', 'patient102')"
   ]
  },
  {
   "cell_type": "code",
   "execution_count": 50,
   "metadata": {},
   "outputs": [
    {
     "data": {
      "text/plain": [
       "{'height': '156.0',\n",
       " 'weight': '75.0',\n",
       " 'sys_volume_RV_mL': 51.513671875,\n",
       " 'sys_volume_LV_mL': 21.9482421875,\n",
       " 'sys_volume_Myo_mL': 90.0634765625,\n",
       " 'dia_volume_RV_mL': 100.0244140625,\n",
       " 'dia_volume_LV_mL': 76.9287109375,\n",
       " 'dia_volume_Myo_mL': 81.25,\n",
       " 'ey_frac_LV': 0.7146937480165027,\n",
       " 'ey_frac_RV': 0.48498901635342934,\n",
       " 'DCM': 0.005357142857142857,\n",
       " 'HCM': 0.29786660561660555,\n",
       " 'MINF': 0.05285805860805861,\n",
       " 'NOR': 0.5167435897435899,\n",
       " 'RV': 0.1271746031746032}"
      ]
     },
     "execution_count": 50,
     "metadata": {},
     "output_type": "execute_result"
    }
   ],
   "source": [
    "patient.patologyDict"
   ]
  },
  {
   "cell_type": "code",
   "execution_count": 51,
   "metadata": {},
   "outputs": [
    {
     "data": {
      "text/plain": [
       "'/home/ubuntu/ACDC_yeah/acdc_data/test/'"
      ]
     },
     "execution_count": 51,
     "metadata": {},
     "output_type": "execute_result"
    }
   ],
   "source": [
    "patient.path"
   ]
  },
  {
   "cell_type": "code",
   "execution_count": 52,
   "metadata": {},
   "outputs": [
    {
     "data": {
      "text/plain": [
       "'patient102'"
      ]
     },
     "execution_count": 52,
     "metadata": {},
     "output_type": "execute_result"
    }
   ],
   "source": [
    "patient.patient_id"
   ]
  },
  {
   "cell_type": "code",
   "execution_count": 53,
   "metadata": {},
   "outputs": [
    {
     "data": {
      "text/plain": [
       "array([[[0., 0., 0., ..., 0., 0., 0.],\n",
       "        [0., 0., 0., ..., 0., 0., 0.],\n",
       "        [0., 0., 0., ..., 0., 0., 0.],\n",
       "        ...,\n",
       "        [0., 0., 0., ..., 0., 0., 0.],\n",
       "        [0., 0., 0., ..., 0., 0., 0.],\n",
       "        [0., 0., 0., ..., 0., 0., 0.]],\n",
       "\n",
       "       [[0., 0., 0., ..., 0., 0., 0.],\n",
       "        [0., 0., 0., ..., 0., 0., 0.],\n",
       "        [0., 0., 0., ..., 0., 0., 0.],\n",
       "        ...,\n",
       "        [0., 0., 0., ..., 0., 0., 0.],\n",
       "        [0., 0., 0., ..., 0., 0., 0.],\n",
       "        [0., 0., 0., ..., 0., 0., 0.]],\n",
       "\n",
       "       [[0., 0., 0., ..., 0., 0., 0.],\n",
       "        [0., 0., 0., ..., 0., 0., 0.],\n",
       "        [0., 0., 0., ..., 0., 0., 0.],\n",
       "        ...,\n",
       "        [0., 0., 0., ..., 0., 0., 0.],\n",
       "        [0., 0., 0., ..., 0., 0., 0.],\n",
       "        [0., 0., 0., ..., 0., 0., 0.]],\n",
       "\n",
       "       ...,\n",
       "\n",
       "       [[0., 0., 0., ..., 0., 0., 0.],\n",
       "        [0., 0., 0., ..., 0., 0., 0.],\n",
       "        [0., 0., 0., ..., 0., 0., 0.],\n",
       "        ...,\n",
       "        [0., 0., 0., ..., 0., 0., 0.],\n",
       "        [0., 0., 0., ..., 0., 0., 0.],\n",
       "        [0., 0., 0., ..., 0., 0., 0.]],\n",
       "\n",
       "       [[0., 0., 0., ..., 0., 0., 0.],\n",
       "        [0., 0., 0., ..., 0., 0., 0.],\n",
       "        [0., 0., 0., ..., 0., 0., 0.],\n",
       "        ...,\n",
       "        [0., 0., 0., ..., 0., 0., 0.],\n",
       "        [0., 0., 0., ..., 0., 0., 0.],\n",
       "        [0., 0., 0., ..., 0., 0., 0.]],\n",
       "\n",
       "       [[0., 0., 0., ..., 0., 0., 0.],\n",
       "        [0., 0., 0., ..., 0., 0., 0.],\n",
       "        [0., 0., 0., ..., 0., 0., 0.],\n",
       "        ...,\n",
       "        [0., 0., 0., ..., 0., 0., 0.],\n",
       "        [0., 0., 0., ..., 0., 0., 0.],\n",
       "        [0., 0., 0., ..., 0., 0., 0.]]], dtype=float32)"
      ]
     },
     "execution_count": 53,
     "metadata": {},
     "output_type": "execute_result"
    }
   ],
   "source": [
    "ED_array = patient.ED.get_data()\n",
    "ED_array"
   ]
  },
  {
   "cell_type": "code",
   "execution_count": 64,
   "metadata": {},
   "outputs": [
    {
     "data": {
      "text/plain": [
       "<matplotlib.image.AxesImage at 0x7f8d6cbe6fd0>"
      ]
     },
     "execution_count": 64,
     "metadata": {},
     "output_type": "execute_result"
    },
    {
     "data": {
      "image/png": "[encoded data removed]",
      "text/plain": [
       "<Figure size 432x288 with 1 Axes>"
      ]
     },
     "metadata": {},
     "output_type": "display_data"
    }
   ],
   "source": [
    "fig, axis = plt.subplots()\n",
    "\n",
    "axis.imshow(ED_array[:,:,1], cmap = \"bone\")"
   ]
  },
  {
   "cell_type": "code",
   "execution_count": 66,
   "metadata": {},
   "outputs": [],
   "source": [
    "fig.savefig('ED.png', format='png')"
   ]
  },
  {
   "cell_type": "code",
   "execution_count": 39,
   "metadata": {},
   "outputs": [],
   "source": [
    "image.convert('RGB').save(\"prueba.png\")"
   ]
  },
  {
   "cell_type": "code",
   "execution_count": 40,
   "metadata": {},
   "outputs": [
    {
     "name": "stdout",
     "output_type": "stream",
     "text": [
      "/home/ubuntu/ACDC_yeah/GUI\r\n"
     ]
    }
   ],
   "source": [
    "!pwd"
   ]
  },
  {
   "cell_type": "code",
   "execution_count": null,
   "metadata": {},
   "outputs": [],
   "source": [
    "from tkinter import *\n",
    "\n",
    "vista = Tk()\n",
    "\n",
    "vista.title(\"Medical DataLab\")\n",
    "vista.geometry(\"800x600\")\n",
    "vista.resizable(width=False, height=False)\n",
    "\n",
    "vista.columnconfigure(0, weight=1)\n",
    "vista.columnconfigure(1, weight=0)\n",
    "vista.columnconfigure(2, weight=1)\n",
    "vista.rowconfigure(2, weight=1)\n",
    "\n",
    "imgPat = PhotoImage(file = \"logo.png\")\n",
    "Image1 = Label(vista, image = imgPat, borderwidth=2, relief=\"ridge\")  #.grid(row=0, column=0)\n",
    "Image1.place(x=130, y=30)\n",
    "Image1.config(height=225, width=225)\n",
    "\n",
    "imgPat2 = PhotoImage(file = \"logo.png\")\n",
    "Image2 = Label(vista, image = imgPat2, borderwidth=2, relief=\"ridge\")\n",
    "Image2.place(x=450, y=30)\n",
    "Image2.config(height=225, width=225)\n",
    "\n",
    "\n",
    "\n",
    "dat = Label(text = \"Aqui los datos\", fg = \"black\", font=(None,15))\n",
    "dat.place(x=150, y=290)\n",
    "\n",
    "dat = Label(text = \"Dato1: \", fg = \"black\")\n",
    "dat.place(x=150, y=330)\n",
    "dat = Label(text = \"Dato1 Resultado \", fg = \"black\", borderwidth=2, relief=\"sunken\")\n",
    "dat.place(x=200, y=330)\n",
    "\n",
    "dat = Label(text = \"Dato2: \", fg = \"black\")\n",
    "dat.place(x=150, y=355)\n",
    "dat = Label(text = \"Dato2 Resultado \", fg = \"black\", borderwidth=2, relief=\"sunken\")\n",
    "dat.place(x=200, y=355)\n",
    "\n",
    "dat = Label(text = \"Dato3: \", fg = \"black\")\n",
    "dat.place(x=150, y=380)\n",
    "dat = Label(text = \"Dato3 Resultado \", fg = \"black\", borderwidth=2, relief=\"sunken\")\n",
    "dat.place(x=200, y=380)\n",
    "\n",
    "dat = Label(text = \"Dato4: \", fg = \"black\")\n",
    "dat.place(x=150, y=405)\n",
    "dat = Label(text = \"Dato4 Resultado \", fg = \"black\", borderwidth=2, relief=\"sunken\")\n",
    "dat.place(x=200, y=405)\n",
    "\n",
    "dat = Label(text = \"Dato5: \", fg = \"black\")\n",
    "dat.place(x=150, y=430)\n",
    "dat = Label(text = \"Dato5 Resultado \", fg = \"black\", borderwidth=2, relief=\"sunken\")\n",
    "dat.place(x=200, y=430)\n",
    "\n",
    "dat = Label(text = \"Dato6: \", fg = \"black\")\n",
    "dat.place(x=150, y=455)\n",
    "dat = Label(text = \"Dato6 Resultado \", fg = \"black\", borderwidth=2, relief=\"sunken\")\n",
    "dat.place(x=200, y=455)\n",
    "\n",
    "dat = Label(text = \"Dato7: \", fg = \"black\")\n",
    "dat.place(x=150, y=480)\n",
    "dat = Label(text = \"Dato7 Resultado \", fg = \"black\", borderwidth=2, relief=\"sunken\")\n",
    "dat.place(x=200, y=480)\n",
    "\n",
    "dat = Label(text = \"Dato8: \", fg = \"black\")\n",
    "dat.place(x=150, y=505)\n",
    "dat = Label(text = \"Dato8 Resultado \", fg = \"black\", borderwidth=2, relief=\"sunken\")\n",
    "dat.place(x=200, y=505)\n",
    "\n",
    "\n",
    "\n",
    "dat = Label(text = \"Aqui los otros\", fg = \"black\", font=(None,15))\n",
    "dat.place(x=450, y=290)\n",
    "\n",
    "dat = Label(text = \"Dato1: \", fg = \"black\")\n",
    "dat.place(x=450, y=330)\n",
    "dat = Label(text = \"Dato1 Resultado \", fg = \"black\", borderwidth=2, relief=\"sunken\")\n",
    "dat.place(x=500, y=330)\n",
    "\n",
    "dat = Label(text = \"Dato2: \", fg = \"black\")\n",
    "dat.place(x=450, y=355)\n",
    "dat = Label(text = \"Dato2 Resultado \", fg = \"black\", borderwidth=2, relief=\"sunken\")\n",
    "dat.place(x=500, y=355)\n",
    "\n",
    "dat = Label(text = \"Dato3: \", fg = \"black\")\n",
    "dat.place(x=450, y=380)\n",
    "dat = Label(text = \"Dato3 Resultado \", fg = \"black\", borderwidth=2, relief=\"sunken\")\n",
    "dat.place(x=500, y=380)\n",
    "\n",
    "dat = Label(text = \"Dato4: \", fg = \"black\")\n",
    "dat.place(x=450, y=405)\n",
    "dat = Label(text = \"Dato4 Resultado \", fg = \"black\", borderwidth=2, relief=\"sunken\")\n",
    "dat.place(x=500, y=405)\n",
    "\n",
    "vista.mainloop()"
   ]
  }
 ],
 "metadata": {
  "kernelspec": {
   "display_name": "Environment (conda_tensorflow_p36)",
   "language": "python",
   "name": "conda_tensorflow_p36"
  },
  "language_info": {
   "codemirror_mode": {
    "name": "ipython",
    "version": 3
   },
   "file_extension": ".py",
   "mimetype": "text/x-python",
   "name": "python",
   "nbconvert_exporter": "python",
   "pygments_lexer": "ipython3",
   "version": "3.6.8"
  }
 },
 "nbformat": 4,
 "nbformat_minor": 2
}
